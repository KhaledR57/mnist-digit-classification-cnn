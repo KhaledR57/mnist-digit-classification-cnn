{
 "cells": [
  {
   "cell_type": "code",
   "execution_count": 28,
   "metadata": {
    "id": "FKwqcpzl71A1"
   },
   "outputs": [],
   "source": [
    "import numpy as np\n",
    "import tensorflow as tf\n",
    "import tensorflow.keras as keras\n",
    "import matplotlib.pyplot as plt"
   ]
  },
  {
   "cell_type": "markdown",
   "metadata": {
    "id": "PIDcoYTJjuxz"
   },
   "source": [
    "#**Importing Data**"
   ]
  },
  {
   "cell_type": "code",
   "execution_count": 29,
   "metadata": {
    "id": "DBSgAX7Q71A5"
   },
   "outputs": [],
   "source": [
    "mnist = keras.datasets.mnist\n",
    "(x_train,y_train), (x_test,y_test) = mnist.load_data()"
   ]
  },
  {
   "cell_type": "markdown",
   "metadata": {
    "id": "n5Wm2_H8j02k"
   },
   "source": [
    "#**Preprocessing**"
   ]
  },
  {
   "cell_type": "code",
   "execution_count": 30,
   "metadata": {
    "id": "GgHvYMYr71A6"
   },
   "outputs": [],
   "source": [
    "x_train = x_train.reshape(x_train.shape[0], x_train.shape[1], x_train.shape[2], 1)\n",
    "x_test = x_test.reshape(x_test.shape[0], x_test.shape[1], x_test.shape[2], 1)\n",
    "x_train = keras.utils.normalize(x_train)\n",
    "x_test = keras.utils.normalize(x_test)"
   ]
  },
  {
   "cell_type": "markdown",
   "metadata": {
    "id": "YRHHC-_gj7vy"
   },
   "source": [
    "#**Model Building**"
   ]
  },
  {
   "cell_type": "code",
   "execution_count": 31,
   "metadata": {
    "id": "m64T_T1m71A7"
   },
   "outputs": [],
   "source": [
    "model = keras.models.Sequential()\n",
    "\n",
    "model.add(keras.layers.Conv2D(128, (3,3), activation = 'relu'))\n",
    "model.add(keras.layers.MaxPooling2D((2,2)))\n",
    "model.add(keras.layers.Conv2D(64, (3,3), activation = 'relu'))\n",
    "model.add(keras.layers.MaxPooling2D((2,2)))\n",
    "\n",
    "model.add(keras.layers.Flatten())\n",
    "model.add(keras.layers.Dense(256, activation = 'relu'))\n",
    "model.add(keras.layers.Dense(32, activation = 'relu'))\n",
    "model.add(keras.layers.Dense(10, activation = 'softmax'))\n",
    "\n",
    "model.compile(optimizer = 'adam',\n",
    "              loss = 'sparse_categorical_crossentropy',\n",
    "               metrics = ['accuracy'])"
   ]
  },
  {
   "cell_type": "markdown",
   "metadata": {
    "id": "ZlY8mEbVkSGK"
   },
   "source": [
    "#**Training**"
   ]
  },
  {
   "cell_type": "code",
   "execution_count": 32,
   "metadata": {
    "colab": {
     "base_uri": "https://localhost:8080/"
    },
    "id": "nwNqXYed71A8",
    "outputId": "b4087f96-780b-455b-a7bb-90351f748b53"
   },
   "outputs": [
    {
     "name": "stdout",
     "output_type": "stream",
     "text": [
      "Epoch 1/10\n",
      "1313/1313 [==============================] - 6s 4ms/step - loss: 0.1725 - accuracy: 0.9448 - val_loss: 0.0742 - val_accuracy: 0.9781\n",
      "Epoch 2/10\n",
      "1313/1313 [==============================] - 6s 4ms/step - loss: 0.0571 - accuracy: 0.9822 - val_loss: 0.0623 - val_accuracy: 0.9810\n",
      "Epoch 3/10\n",
      "1313/1313 [==============================] - 6s 4ms/step - loss: 0.0397 - accuracy: 0.9872 - val_loss: 0.0686 - val_accuracy: 0.9808\n",
      "Epoch 4/10\n",
      "1313/1313 [==============================] - 6s 4ms/step - loss: 0.0312 - accuracy: 0.9895 - val_loss: 0.0843 - val_accuracy: 0.9777\n",
      "Epoch 5/10\n",
      "1313/1313 [==============================] - 6s 4ms/step - loss: 0.0221 - accuracy: 0.9930 - val_loss: 0.0689 - val_accuracy: 0.9809\n",
      "Epoch 6/10\n",
      "1313/1313 [==============================] - 6s 4ms/step - loss: 0.0180 - accuracy: 0.9937 - val_loss: 0.0657 - val_accuracy: 0.9837\n",
      "Epoch 7/10\n",
      "1313/1313 [==============================] - 6s 4ms/step - loss: 0.0135 - accuracy: 0.9954 - val_loss: 0.0729 - val_accuracy: 0.9825\n",
      "Epoch 8/10\n",
      "1313/1313 [==============================] - 6s 4ms/step - loss: 0.0135 - accuracy: 0.9958 - val_loss: 0.0714 - val_accuracy: 0.9837\n",
      "Epoch 9/10\n",
      "1313/1313 [==============================] - 6s 4ms/step - loss: 0.0102 - accuracy: 0.9966 - val_loss: 0.0701 - val_accuracy: 0.9850\n",
      "Epoch 10/10\n",
      "1313/1313 [==============================] - 6s 4ms/step - loss: 0.0100 - accuracy: 0.9966 - val_loss: 0.0774 - val_accuracy: 0.9848\n"
     ]
    },
    {
     "data": {
      "text/plain": [
       "<tensorflow.python.keras.callbacks.History at 0x7f4b242a0510>"
      ]
     },
     "execution_count": 32,
     "metadata": {
      "tags": []
     },
     "output_type": "execute_result"
    }
   ],
   "source": [
    "model.fit(x_train, y_train, batch_size = 32, epochs = 10, validation_split = 0.3)"
   ]
  },
  {
   "cell_type": "markdown",
   "metadata": {
    "id": "FJl82eNVkWoz"
   },
   "source": [
    "#**Evaluating**"
   ]
  },
  {
   "cell_type": "code",
   "execution_count": 33,
   "metadata": {
    "colab": {
     "base_uri": "https://localhost:8080/"
    },
    "id": "ccMN1GUs71A-",
    "outputId": "b255eab3-f828-406e-e91a-ffb3477c2c59"
   },
   "outputs": [
    {
     "name": "stdout",
     "output_type": "stream",
     "text": [
      "313/313 [==============================] - 1s 2ms/step - loss: 0.0708 - accuracy: 0.9861\n",
      "Loss : 0.07078410685062408\n",
      "Accuracy : 0.9861000180244446\n"
     ]
    }
   ],
   "source": [
    "loss, accuracy = model.evaluate(x_test,y_test)\n",
    "print(\"Loss :\", loss)\n",
    "print(\"Accuracy :\", accuracy)"
   ]
  },
  {
   "cell_type": "markdown",
   "metadata": {
    "id": "0ol2-Td5kbwG"
   },
   "source": [
    "#**Results**"
   ]
  },
  {
   "cell_type": "code",
   "execution_count": 34,
   "metadata": {
    "colab": {
     "base_uri": "https://localhost:8080/",
     "height": 1000
    },
    "id": "o90iQv3J71A_",
    "outputId": "c303edaa-8cb1-4301-f609-745e00c0b1ae"
   },
   "outputs": [
    {
     "data": {
      "image/png": "[encoded data removed]",
      "text/plain": [
       "<Figure size 432x288 with 1 Axes>"
      ]
     },
     "metadata": {
      "needs_background": "light",
      "tags": []
     },
     "output_type": "display_data"
    },
    {
     "data": {
      "image/png": "[encoded data removed]",
      "text/plain": [
       "<Figure size 432x288 with 1 Axes>"
      ]
     },
     "metadata": {
      "needs_background": "light",
      "tags": []
     },
     "output_type": "display_data"
    },
    {
     "data": {
      "image/png": "[encoded data removed]",
      "text/plain": [
       "<Figure size 432x288 with 1 Axes>"
      ]
     },
     "metadata": {
      "needs_background": "light",
      "tags": []
     },
     "output_type": "display_data"
    },
    {
     "data": {
      "image/png": "[encoded data removed]",
      "text/plain": [
       "<Figure size 432x288 with 1 Axes>"
      ]
     },
     "metadata": {
      "needs_background": "light",
      "tags": []
     },
     "output_type": "display_data"
    },
    {
     "data": {
      "image/png": "[encoded data removed]",
      "text/plain": [
       "<Figure size 432x288 with 1 Axes>"
      ]
     },
     "metadata": {
      "needs_background": "light",
      "tags": []
     },
     "output_type": "display_data"
    }
   ],
   "source": [
    "predection = model.predict(x_test)\n",
    "for i in range(5):\n",
    "  plt.imshow(x_test[i].reshape(x_test[0].shape[0], x_test[0].shape[1]))\n",
    "  plt.title(np.argmax(predection[i]))\n",
    "  plt.show()"
   ]
  },
  {
   "cell_type": "code",
   "execution_count": 35,
   "metadata": {
    "colab": {
     "base_uri": "https://localhost:8080/"
    },
    "id": "1L0WMefFhNUV",
    "outputId": "f897a3f0-bde8-4a28-b97e-d4f10c2824fc"
   },
   "outputs": [
    {
     "name": "stdout",
     "output_type": "stream",
     "text": [
      "INFO:tensorflow:Assets written to: save/assets\n"
     ]
    }
   ],
   "source": [
    "model.save('save')"
   ]
  }
 ],
 "metadata": {
  "accelerator": "GPU",
  "colab": {
   "collapsed_sections": [],
   "name": "CNN.ipynb",
   "provenance": []
  },
  "kernelspec": {
   "display_name": "Python 3",
   "language": "python",
   "name": "python3"
  },
  "language_info": {
   "codemirror_mode": {
    "name": "ipython",
    "version": 3
   },
   "file_extension": ".py",
   "mimetype": "text/x-python",
   "name": "python",
   "nbconvert_exporter": "python",
   "pygments_lexer": "ipython3",
   "version": "3.8.3"
  }
 },
 "nbformat": 4,
 "nbformat_minor": 1
}
